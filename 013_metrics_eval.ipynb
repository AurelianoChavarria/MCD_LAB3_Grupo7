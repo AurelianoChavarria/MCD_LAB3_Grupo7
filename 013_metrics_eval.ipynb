{
 "cells": [
  {
   "cell_type": "markdown",
   "metadata": {
    "editable": true,
    "id": "K0U2xhQlhuQy",
    "slideshow": {
     "slide_type": ""
    },
    "tags": []
   },
   "source": [
    "<table style=\"text-align: left; width: 100%;\" border=\"0\"\n",
    " cellpadding=\"0\" cellspacing=\"0\">\n",
    "\n",
    "  <tbody>\n",
    "    <tr align=\"center\" style=\"height: 1px; background-color: rgb(0, 0, 0);\">\n",
    "      <td><big><big><big><big>Grupo-7</big></big></big></td>\n",
    "      <td><big><big><big><big><span style=\"font-family: Calibri; color: white; font-weight: bold;\">Laboratorio III</span></big></big></big></big></td>\n",
    "      <td><img src=\"https://i.imgur.com/YOQky86.png\" title=\"source: imgur.com\" style=\"width: 250px; height: auto;\" /></td>\n",
    "    </tr>\n",
    "    <tr align=\"center\">\n",
    "      <td colspan=\"3\" rowspan=\"1\"\n",
    " style=\"height: 1px; background-color: rgb(68, 68, 100);\"></td>\n",
    "    </tr>\n",
    "    <tr align=\"center\">\n",
    "      <td colspan=\"3\" rowspan=\"1\"><big><big><big><big><span\n",
    " style=\"font-family: Calibri;\">Procesamiento de Métricas</span></big></big></big></big><br>\n",
    "      </td></tr>\n",
    "    <tr align=\"center\">       \n",
    "      <td colspan=\"3\" rowspan=\"1\" style=\"height: 1px; background-color: rgb(68, 68, 100);\"></td>\n",
    "    </tr>\n",
    "  </tbody>\n",
    "</table>\n",
    "\n",
    "\n",
    "<span style=\"font-family: Calibri; font-weight: bold; \">Autores:</span>\n",
    "<br style=\"font-family: Calibri; font-style: italic;\">\n",
    "<span style=\"font-family: Calibri; font-style: italic;\">\n",
    "- Aureliano Chavarria\n",
    "- Gastón Larregui\n",
    "- Patricia Nuñez\n",
    "</span>\n",
    "\n",
    "\n",
    "\n",
    "<div class=\"footer\">&copy; 2024</div>\n"
   ]
  },
  {
   "attachments": {},
   "cell_type": "markdown",
   "metadata": {},
   "source": [
    "<hr>\n",
    "\n",
    "### Consolidación y Análisis de Métricas desde Archivos JSON\n",
    "\n",
    "El código tiene la finalidad de recopilar y organizar datos de múltiples archivos JSON, para luego consolidarlos en un único archivo Excel.\n",
    "\n",
    "Primero, se especifica la ruta de la carpeta que contiene los archivos JSON. Luego, el programa recorre todos los archivos en esa carpeta y selecciona aquellos que terminan con la extensión `.metrics.json`.\n",
    "\n",
    "Cada archivo JSON se lee y sus datos se almacenan en una lista. Durante este proceso, los datos dentro de las secciones \"validation\" y \"future_predictions\" se extraen y se reestructuran para que cada métrica sea una columna separada.\n",
    "\n",
    "Una vez recopilados los datos de todos los archivos, se convierten en un DataFrame, que es una estructura de datos similar a una tabla. Este DataFrame se reordena según un orden de columnas predefinido y se ordena por el nombre del archivo en orden ascendente.\n",
    "\n",
    "El uso del formato de fecha y hora en los nombres de los archivos (`20240712-1814-`) facilita su identificación y orden. Este formato incluye el año, mes y día, seguidos por la hora y los minutos, lo que permite una organización cronológica automática al ordenar los archivos por nombre.\n",
    "\n",
    "Finalmente, el DataFrame ordenado se exporta a un archivo Excel, lo que permite un análisis más fácil y organizado de todas las métricas y parámetros recopilados."
   ]
  },
  {
   "cell_type": "code",
   "execution_count": 1,
   "metadata": {},
   "outputs": [
    {
     "name": "stdout",
     "output_type": "stream",
     "text": [
      "Datos exportados a 013_metrics_summary.xlsx\n"
     ]
    }
   ],
   "source": [
    "import os\n",
    "import json\n",
    "import pandas as pd\n",
    "\n",
    "# Ruta de la carpeta que contiene los archivos .metrics.json\n",
    "folder_path = './666_Kaggle/Entregas/'\n",
    "\n",
    "# Lista para almacenar los datos de los archivos\n",
    "data_list = []\n",
    "\n",
    "# Iterar sobre los archivos en la carpeta\n",
    "for file_name in os.listdir(folder_path):\n",
    "    if file_name.endswith('.metrics.json'):\n",
    "        # Ruta completa del archivo\n",
    "        file_path = os.path.join(folder_path, file_name)\n",
    "        # Leer el archivo JSON\n",
    "        with open(file_path, 'r') as f:\n",
    "            data = json.load(f)\n",
    "            # Añadir el nombre del archivo al diccionario de datos\n",
    "            data['file_name'] = file_name\n",
    "            # Aplanar las secciones de validation y future_predictions\n",
    "            validation = data.pop('validation', {})\n",
    "            future_predictions = data.pop('future_predictions', {})\n",
    "            for key, value in validation.items():\n",
    "                data[f'validation_{key}'] = value\n",
    "            for key, value in future_predictions.items():\n",
    "                data[f'future_predictions_{key}'] = value\n",
    "            # Añadir los datos a la lista\n",
    "            data_list.append(data)\n",
    "\n",
    "# Convertir la lista de diccionarios a un DataFrame\n",
    "df = pd.DataFrame(data_list)\n",
    "\n",
    "# Especificar el orden de las columnas\n",
    "column_order = [\n",
    "    'file_name', 'future_predicion', 'seed', 'seq_length', 'epochs', 'batch_size',\n",
    "    'learning_rate', 'patience', 'verbose', 'standard_scaler',\n",
    "    'validation_avg_mae', 'validation_avg_rmse', 'validation_avg_mape', 'validation_avg_tfe',\n",
    "    'future_predictions_mae_nov_dec_2019', 'future_predictions_rmse_nov_dec_2019',\n",
    "    'future_predictions_mape_nov_dec_2019', 'future_predictions_tfe_nov_dec_2019'\n",
    "]\n",
    "\n",
    "# Reordenar las columnas del DataFrame\n",
    "df = df[column_order]\n",
    "\n",
    "# Ordenar el DataFrame por file_name en orden ascendente\n",
    "df = df.sort_values(by='file_name')\n",
    "\n",
    "# Exportar el DataFrame a un archivo Excel\n",
    "output_file = '013_metrics_summary.xlsx'\n",
    "df.to_excel(output_file, index=False)\n",
    "\n",
    "print(f'Datos exportados a {output_file}')"
   ]
  },
  {
   "cell_type": "code",
   "execution_count": null,
   "metadata": {},
   "outputs": [],
   "source": []
  }
 ],
 "metadata": {
  "colab": {
   "provenance": []
  },
  "kernelspec": {
   "display_name": "Python 3 (ipykernel)",
   "language": "python",
   "name": "python3"
  },
  "language_info": {
   "codemirror_mode": {
    "name": "ipython",
    "version": 3
   },
   "file_extension": ".py",
   "mimetype": "text/x-python",
   "name": "python",
   "nbconvert_exporter": "python",
   "pygments_lexer": "ipython3",
   "version": "3.11.9"
  }
 },
 "nbformat": 4,
 "nbformat_minor": 4
}
