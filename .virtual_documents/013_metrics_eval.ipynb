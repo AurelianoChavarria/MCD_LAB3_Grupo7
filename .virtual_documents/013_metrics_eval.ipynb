





import os
import json
import pandas as pd

# Ruta de la carpeta que contiene los archivos .metrics.json
folder_path = './666_Kaggle/Entregas/'

# Lista para almacenar los datos de los archivos
data_list = []

# Iterar sobre los archivos en la carpeta
for file_name in os.listdir(folder_path):
    if file_name.endswith('.metrics.json'):
        # Ruta completa del archivo
        file_path = os.path.join(folder_path, file_name)
        # Leer el archivo JSON
        with open(file_path, 'r') as f:
            data = json.load(f)
            # Añadir el nombre del archivo al diccionario de datos
            data['file_name'] = file_name
            # Aplanar las secciones de validation y future_predictions
            validation = data.pop('validation', {})
            future_predictions = data.pop('future_predictions', {})
            for key, value in validation.items():
                data[f'validation_{key}'] = value
            for key, value in future_predictions.items():
                data[f'future_predictions_{key}'] = value
            # Añadir los datos a la lista
            data_list.append(data)

# Convertir la lista de diccionarios a un DataFrame
df = pd.DataFrame(data_list)

# Especificar el orden de las columnas
column_order = [
    'file_name', 'future_predicion', 'seed', 'seq_length', 'epochs', 'batch_size',
    'learning_rate', 'patience', 'verbose', 'standard_scaler',
    'validation_avg_mae', 'validation_avg_rmse', 'validation_avg_mape', 'validation_avg_tfe',
    'future_predictions_mae_nov_dec_2019', 'future_predictions_rmse_nov_dec_2019',
    'future_predictions_mape_nov_dec_2019', 'future_predictions_tfe_nov_dec_2019'
]

# Reordenar las columnas del DataFrame
df = df[column_order]

# Ordenar el DataFrame por file_name en orden ascendente
df = df.sort_values(by='file_name')

# Exportar el DataFrame a un archivo Excel
output_file = '013_metrics_summary.xlsx'
df.to_excel(output_file, index=False)

print(f'Datos exportados a {output_file}')



